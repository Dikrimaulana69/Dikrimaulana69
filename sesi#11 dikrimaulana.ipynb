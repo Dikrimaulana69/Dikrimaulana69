{
 "cells": [
  {
   "cell_type": "code",
   "execution_count": 1,
   "id": "103e0619",
   "metadata": {},
   "outputs": [
    {
     "data": {
      "text/plain": [
       "1500"
      ]
     },
     "execution_count": 1,
     "metadata": {},
     "output_type": "execute_result"
    }
   ],
   "source": [
    "#Soal 1\n",
    "\n",
    "list_val = [100, 200, 300, 400, 500]\n",
    "\n",
    "def total(list_val):\n",
    "    total = 0\n",
    "    \n",
    "    for val in list_val:\n",
    "        total += val\n",
    "        \n",
    "    return total\n",
    "\n",
    "total(list_val)"
   ]
  },
  {
   "cell_type": "code",
   "execution_count": 2,
   "id": "5c691d24",
   "metadata": {},
   "outputs": [
    {
     "data": {
      "text/plain": [
       "1000"
      ]
     },
     "execution_count": 2,
     "metadata": {},
     "output_type": "execute_result"
    }
   ],
   "source": [
    "#Soal 2\n",
    "\n",
    "values = [100, 200, 1000, 300, 400, 500]\n",
    "\n",
    "def maxValue(list_val):\n",
    "    max_value = 0\n",
    "    \n",
    "    for val in list_val:\n",
    "        if val > max_value:\n",
    "            max_value = val\n",
    "            \n",
    "    return max_value\n",
    "\n",
    "maxValue(values)"
   ]
  },
  {
   "cell_type": "code",
   "execution_count": 3,
   "id": "cba1638a",
   "metadata": {},
   "outputs": [
    {
     "data": {
      "text/plain": [
       "3600"
      ]
     },
     "execution_count": 3,
     "metadata": {},
     "output_type": "execute_result"
    }
   ],
   "source": [
    "#Soal 3\n",
    "\n",
    "values_a = [100, 200, 300, 400, 500]\n",
    "values_b = [100, 200, 300, 400, 500, 600]\n",
    "\n",
    "def jumlahDuaList(list_a, list_b):\n",
    "    total = 0\n",
    "    \n",
    "    for val in list_a:\n",
    "        total += val\n",
    "        \n",
    "    for val in list_b:\n",
    "        total += val\n",
    "        \n",
    "    return total\n",
    "    \n",
    "\n",
    "jumlahDuaList(values_a, values_b)"
   ]
  },
  {
   "cell_type": "code",
   "execution_count": null,
   "id": "0a0d40fc",
   "metadata": {},
   "outputs": [],
   "source": []
  }
 ],
 "metadata": {
  "kernelspec": {
   "display_name": "Python 3 (ipykernel)",
   "language": "python",
   "name": "python3"
  },
  "language_info": {
   "codemirror_mode": {
    "name": "ipython",
    "version": 3
   },
   "file_extension": ".py",
   "mimetype": "text/x-python",
   "name": "python",
   "nbconvert_exporter": "python",
   "pygments_lexer": "ipython3",
   "version": "3.9.12"
  }
 },
 "nbformat": 4,
 "nbformat_minor": 5
}
